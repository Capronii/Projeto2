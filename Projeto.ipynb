{
 "metadata": {
  "language_info": {
   "codemirror_mode": {
    "name": "ipython",
    "version": 3
   },
   "file_extension": ".py",
   "mimetype": "text/x-python",
   "name": "python",
   "nbconvert_exporter": "python",
   "pygments_lexer": "ipython3",
   "version": "3.7.4-final"
  },
  "orig_nbformat": 2,
  "kernelspec": {
   "name": "python3",
   "display_name": "Python 3"
  }
 },
 "nbformat": 4,
 "nbformat_minor": 2,
 "cells": [
  {
   "cell_type": "code",
   "execution_count": 2,
   "metadata": {},
   "outputs": [
    {
     "output_type": "error",
     "ename": "ModuleNotFoundError",
     "evalue": "No module named 'spicy'",
     "traceback": [
      "\u001b[1;31m---------------------------------------------------------------------------\u001b[0m",
      "\u001b[1;31mModuleNotFoundError\u001b[0m                       Traceback (most recent call last)",
      "\u001b[1;32m<ipython-input-2-2d94fd69cedc>\u001b[0m in \u001b[0;36m<module>\u001b[1;34m\u001b[0m\n\u001b[0;32m      1\u001b[0m \u001b[1;32mimport\u001b[0m \u001b[0mpandas\u001b[0m \u001b[1;32mas\u001b[0m \u001b[0mpd\u001b[0m\u001b[1;33m\u001b[0m\u001b[1;33m\u001b[0m\u001b[0m\n\u001b[0;32m      2\u001b[0m \u001b[1;32mimport\u001b[0m \u001b[0mnumpy\u001b[0m \u001b[1;32mas\u001b[0m \u001b[0mnumpy\u001b[0m\u001b[1;33m\u001b[0m\u001b[1;33m\u001b[0m\u001b[0m\n\u001b[1;32m----> 3\u001b[1;33m \u001b[1;32mfrom\u001b[0m \u001b[0mspicy\u001b[0m \u001b[1;32mimport\u001b[0m \u001b[0mstats\u001b[0m\u001b[1;33m\u001b[0m\u001b[1;33m\u001b[0m\u001b[0m\n\u001b[0m\u001b[0;32m      4\u001b[0m \u001b[1;32mimport\u001b[0m \u001b[0mmatplotlib\u001b[0m\u001b[1;33m.\u001b[0m\u001b[0mpyplot\u001b[0m \u001b[1;32mas\u001b[0m \u001b[0mplt\u001b[0m\u001b[1;33m\u001b[0m\u001b[1;33m\u001b[0m\u001b[0m\n",
      "\u001b[1;31mModuleNotFoundError\u001b[0m: No module named 'spicy'"
     ]
    }
   ],
   "source": [
    "import pandas as pd\n",
    "import numpy as numpy\n",
    "from spicy import stats\n",
    "import matplotlib.pyplot as plt "
   ]
  },
  {
   "cell_type": "code",
   "execution_count": 17,
   "metadata": {},
   "outputs": [],
   "source": [
    "dados=pd.read_csv(\"all_keyboards.csv\")"
   ]
  },
  {
   "cell_type": "code",
   "execution_count": 14,
   "metadata": {},
   "outputs": [],
   "source": []
  },
  {
   "cell_type": "code",
   "execution_count": 18,
   "metadata": {},
   "outputs": [
    {
     "output_type": "execute_result",
     "data": {
      "text/plain": [
       "      Unnamed: 0                      Name   Price  Stores  Rating  Votes  \\\n",
       "0              0              Philips K264    7.50      41     4.7      6   \n",
       "1              1     Philips SPT6324 Black    9.99      20     4.1     25   \n",
       "2              2     Philips SPT6224 Black    8.93      37     4.7      3   \n",
       "3              3          Logitech MX Keys  106.44       8     4.5      8   \n",
       "4              4          Powertech PT-677    3.99      68     2.7      7   \n",
       "...          ...                       ...     ...     ...     ...    ...   \n",
       "1265        1265           Esperanza TK105    6.80       9     1.0      1   \n",
       "1266        1266  Keep Out F90E Gaming USB   39.90       6     2.3      6   \n",
       "1267        1267            Gigabyte K8100   75.00       0     0.0      0   \n",
       "1268        1268             Approx Quasar   29.00       0     1.0      1   \n",
       "1269        1269            A4Tech X7 G100   17.00       0     0.0      0   \n",
       "\n",
       "                        Type       Connection  Colors  Switches  \n",
       "0              Keyboard Only              USB       0       NaN  \n",
       "1     Keyboard and Mouse Set              USB       0       NaN  \n",
       "2     Keyboard and Mouse Set              USB       0       NaN  \n",
       "3              Keyboard Only  Bluetooth / USB       0       NaN  \n",
       "4              Keyboard Only              USB       0       NaN  \n",
       "...                      ...              ...     ...       ...  \n",
       "1265                     NaN              NaN       0  Membrane  \n",
       "1266                     NaN              NaN       0  Membrane  \n",
       "1267                     NaN              NaN       0  Membrane  \n",
       "1268                     NaN              NaN       0  Membrane  \n",
       "1269                     NaN              NaN       0    Keypad  \n",
       "\n",
       "[1270 rows x 10 columns]"
      ],
      "text/html": "<div>\n<style scoped>\n    .dataframe tbody tr th:only-of-type {\n        vertical-align: middle;\n    }\n\n    .dataframe tbody tr th {\n        vertical-align: top;\n    }\n\n    .dataframe thead th {\n        text-align: right;\n    }\n</style>\n<table border=\"1\" class=\"dataframe\">\n  <thead>\n    <tr style=\"text-align: right;\">\n      <th></th>\n      <th>Unnamed: 0</th>\n      <th>Name</th>\n      <th>Price</th>\n      <th>Stores</th>\n      <th>Rating</th>\n      <th>Votes</th>\n      <th>Type</th>\n      <th>Connection</th>\n      <th>Colors</th>\n      <th>Switches</th>\n    </tr>\n  </thead>\n  <tbody>\n    <tr>\n      <td>0</td>\n      <td>0</td>\n      <td>Philips K264</td>\n      <td>7.50</td>\n      <td>41</td>\n      <td>4.7</td>\n      <td>6</td>\n      <td>Keyboard Only</td>\n      <td>USB</td>\n      <td>0</td>\n      <td>NaN</td>\n    </tr>\n    <tr>\n      <td>1</td>\n      <td>1</td>\n      <td>Philips SPT6324 Black</td>\n      <td>9.99</td>\n      <td>20</td>\n      <td>4.1</td>\n      <td>25</td>\n      <td>Keyboard and Mouse Set</td>\n      <td>USB</td>\n      <td>0</td>\n      <td>NaN</td>\n    </tr>\n    <tr>\n      <td>2</td>\n      <td>2</td>\n      <td>Philips SPT6224 Black</td>\n      <td>8.93</td>\n      <td>37</td>\n      <td>4.7</td>\n      <td>3</td>\n      <td>Keyboard and Mouse Set</td>\n      <td>USB</td>\n      <td>0</td>\n      <td>NaN</td>\n    </tr>\n    <tr>\n      <td>3</td>\n      <td>3</td>\n      <td>Logitech MX Keys</td>\n      <td>106.44</td>\n      <td>8</td>\n      <td>4.5</td>\n      <td>8</td>\n      <td>Keyboard Only</td>\n      <td>Bluetooth / USB</td>\n      <td>0</td>\n      <td>NaN</td>\n    </tr>\n    <tr>\n      <td>4</td>\n      <td>4</td>\n      <td>Powertech PT-677</td>\n      <td>3.99</td>\n      <td>68</td>\n      <td>2.7</td>\n      <td>7</td>\n      <td>Keyboard Only</td>\n      <td>USB</td>\n      <td>0</td>\n      <td>NaN</td>\n    </tr>\n    <tr>\n      <td>...</td>\n      <td>...</td>\n      <td>...</td>\n      <td>...</td>\n      <td>...</td>\n      <td>...</td>\n      <td>...</td>\n      <td>...</td>\n      <td>...</td>\n      <td>...</td>\n      <td>...</td>\n    </tr>\n    <tr>\n      <td>1265</td>\n      <td>1265</td>\n      <td>Esperanza TK105</td>\n      <td>6.80</td>\n      <td>9</td>\n      <td>1.0</td>\n      <td>1</td>\n      <td>NaN</td>\n      <td>NaN</td>\n      <td>0</td>\n      <td>Membrane</td>\n    </tr>\n    <tr>\n      <td>1266</td>\n      <td>1266</td>\n      <td>Keep Out F90E Gaming USB</td>\n      <td>39.90</td>\n      <td>6</td>\n      <td>2.3</td>\n      <td>6</td>\n      <td>NaN</td>\n      <td>NaN</td>\n      <td>0</td>\n      <td>Membrane</td>\n    </tr>\n    <tr>\n      <td>1267</td>\n      <td>1267</td>\n      <td>Gigabyte K8100</td>\n      <td>75.00</td>\n      <td>0</td>\n      <td>0.0</td>\n      <td>0</td>\n      <td>NaN</td>\n      <td>NaN</td>\n      <td>0</td>\n      <td>Membrane</td>\n    </tr>\n    <tr>\n      <td>1268</td>\n      <td>1268</td>\n      <td>Approx Quasar</td>\n      <td>29.00</td>\n      <td>0</td>\n      <td>1.0</td>\n      <td>1</td>\n      <td>NaN</td>\n      <td>NaN</td>\n      <td>0</td>\n      <td>Membrane</td>\n    </tr>\n    <tr>\n      <td>1269</td>\n      <td>1269</td>\n      <td>A4Tech X7 G100</td>\n      <td>17.00</td>\n      <td>0</td>\n      <td>0.0</td>\n      <td>0</td>\n      <td>NaN</td>\n      <td>NaN</td>\n      <td>0</td>\n      <td>Keypad</td>\n    </tr>\n  </tbody>\n</table>\n<p>1270 rows × 10 columns</p>\n</div>"
     },
     "metadata": {},
     "execution_count": 18
    }
   ],
   "source": [
    "dados"
   ]
  },
  {
   "cell_type": "code",
   "execution_count": 51,
   "metadata": {},
   "outputs": [
    {
     "output_type": "error",
     "ename": "ValueError",
     "evalue": "The truth value of a Series is ambiguous. Use a.empty, a.bool(), a.item(), a.any() or a.all().",
     "traceback": [
      "\u001b[1;31m---------------------------------------------------------------------------\u001b[0m",
      "\u001b[1;31mValueError\u001b[0m                                Traceback (most recent call last)",
      "\u001b[1;32m<ipython-input-51-cbeed995bd7e>\u001b[0m in \u001b[0;36m<module>\u001b[1;34m\u001b[0m\n\u001b[0;32m      1\u001b[0m \u001b[1;31m#filtrando para keyboards only\u001b[0m\u001b[1;33m\u001b[0m\u001b[1;33m\u001b[0m\u001b[1;33m\u001b[0m\u001b[0m\n\u001b[0;32m      2\u001b[0m \u001b[1;33m\u001b[0m\u001b[0m\n\u001b[1;32m----> 3\u001b[1;33m \u001b[0mteclado\u001b[0m\u001b[1;33m=\u001b[0m\u001b[0mdados\u001b[0m\u001b[1;33m[\u001b[0m\u001b[1;34m'Type'\u001b[0m\u001b[1;33m]\u001b[0m\u001b[1;33m==\u001b[0m \u001b[1;34m'Keyboard Only'\u001b[0m \u001b[1;32mor\u001b[0m \u001b[1;34m'Keyboard with Touchpad'\u001b[0m\u001b[1;33m\u001b[0m\u001b[1;33m\u001b[0m\u001b[0m\n\u001b[0m\u001b[0;32m      4\u001b[0m \u001b[0mteclas1\u001b[0m\u001b[1;33m=\u001b[0m\u001b[0mdados\u001b[0m\u001b[1;33m[\u001b[0m\u001b[1;34m'Type'\u001b[0m\u001b[1;33m]\u001b[0m\u001b[1;33m==\u001b[0m \u001b[1;34m'Keyboard with Touchpad'\u001b[0m\u001b[1;33m\u001b[0m\u001b[1;33m\u001b[0m\u001b[0m\n\u001b[0;32m      5\u001b[0m \u001b[1;33m\u001b[0m\u001b[0m\n",
      "\u001b[1;32m~\\AppData\\Local\\Continuum\\anaconda3\\lib\\site-packages\\pandas\\core\\generic.py\u001b[0m in \u001b[0;36m__nonzero__\u001b[1;34m(self)\u001b[0m\n\u001b[0;32m   1553\u001b[0m             \u001b[1;34m\"The truth value of a {0} is ambiguous. \"\u001b[0m\u001b[1;33m\u001b[0m\u001b[1;33m\u001b[0m\u001b[0m\n\u001b[0;32m   1554\u001b[0m             \"Use a.empty, a.bool(), a.item(), a.any() or a.all().\".format(\n\u001b[1;32m-> 1555\u001b[1;33m                 \u001b[0mself\u001b[0m\u001b[1;33m.\u001b[0m\u001b[0m__class__\u001b[0m\u001b[1;33m.\u001b[0m\u001b[0m__name__\u001b[0m\u001b[1;33m\u001b[0m\u001b[1;33m\u001b[0m\u001b[0m\n\u001b[0m\u001b[0;32m   1556\u001b[0m             )\n\u001b[0;32m   1557\u001b[0m         )\n",
      "\u001b[1;31mValueError\u001b[0m: The truth value of a Series is ambiguous. Use a.empty, a.bool(), a.item(), a.any() or a.all()."
     ]
    }
   ],
   "source": [
    "#filtrando para keyboards only \n",
    "\n",
    "teclado=dados['Type']== 'Keyboard Only'\n",
    "teclas1=dados['Type']== 'Keyboard with Touchpad'\n",
    "\n",
    "keyboard=dados.loc[teclado,:]\n",
    "a=dados.loc[(teclado)&(teclas1),:]\n",
    "a"
   ]
  },
  {
   "cell_type": "code",
   "execution_count": 29,
   "metadata": {},
   "outputs": [],
   "source": [
    "clean=keyboard.drop(['Colors'],axis=1)"
   ]
  },
  {
   "cell_type": "code",
   "execution_count": 37,
   "metadata": {},
   "outputs": [],
   "source": [
    "clean_snan=clean.fillna(0)"
   ]
  },
  {
   "cell_type": "code",
   "execution_count": 39,
   "metadata": {},
   "outputs": [
    {
     "output_type": "execute_result",
     "data": {
      "text/plain": [
       "     Unnamed: 0                                Name   Price  Stores  Rating  \\\n",
       "0             0                        Philips K264    7.50      41     4.7   \n",
       "3             3                    Logitech MX Keys  106.44       8     4.5   \n",
       "4             4                    Powertech PT-677    3.99      68     2.7   \n",
       "6             6                       Logitech K120   10.14      47     4.4   \n",
       "9             9                     Philips SPT6354   10.41      37     3.8   \n",
       "..          ...                                 ...     ...     ...     ...   \n",
       "566         566                      Gigabyte K6800   14.99       0     0.0   \n",
       "567         567                     Gembird KB-109F    9.90       2     1.0   \n",
       "569         569             Gembird KB-BT-001 Black   25.00       0     2.7   \n",
       "570         570  Roline Numeric Keyboard USB Silver   10.78       2     0.0   \n",
       "571         571          Modecom MC-5003 Hot Wheels    3.90       0     0.0   \n",
       "\n",
       "     Votes           Type       Connection  Switches  \n",
       "0        6  Keyboard Only              USB         0  \n",
       "3        8  Keyboard Only  Bluetooth / USB         0  \n",
       "4        7  Keyboard Only              USB         0  \n",
       "6       46  Keyboard Only              USB         0  \n",
       "9        6  Keyboard Only              USB         0  \n",
       "..     ...            ...              ...       ...  \n",
       "566      0  Keyboard Only              USB         0  \n",
       "567      1  Keyboard Only              USB         0  \n",
       "569      3  Keyboard Only        Bluetooth         0  \n",
       "570      0  Keyboard Only              USB         0  \n",
       "571      0  Keyboard Only              USB         0  \n",
       "\n",
       "[306 rows x 9 columns]"
      ],
      "text/html": "<div>\n<style scoped>\n    .dataframe tbody tr th:only-of-type {\n        vertical-align: middle;\n    }\n\n    .dataframe tbody tr th {\n        vertical-align: top;\n    }\n\n    .dataframe thead th {\n        text-align: right;\n    }\n</style>\n<table border=\"1\" class=\"dataframe\">\n  <thead>\n    <tr style=\"text-align: right;\">\n      <th></th>\n      <th>Unnamed: 0</th>\n      <th>Name</th>\n      <th>Price</th>\n      <th>Stores</th>\n      <th>Rating</th>\n      <th>Votes</th>\n      <th>Type</th>\n      <th>Connection</th>\n      <th>Switches</th>\n    </tr>\n  </thead>\n  <tbody>\n    <tr>\n      <td>0</td>\n      <td>0</td>\n      <td>Philips K264</td>\n      <td>7.50</td>\n      <td>41</td>\n      <td>4.7</td>\n      <td>6</td>\n      <td>Keyboard Only</td>\n      <td>USB</td>\n      <td>0</td>\n    </tr>\n    <tr>\n      <td>3</td>\n      <td>3</td>\n      <td>Logitech MX Keys</td>\n      <td>106.44</td>\n      <td>8</td>\n      <td>4.5</td>\n      <td>8</td>\n      <td>Keyboard Only</td>\n      <td>Bluetooth / USB</td>\n      <td>0</td>\n    </tr>\n    <tr>\n      <td>4</td>\n      <td>4</td>\n      <td>Powertech PT-677</td>\n      <td>3.99</td>\n      <td>68</td>\n      <td>2.7</td>\n      <td>7</td>\n      <td>Keyboard Only</td>\n      <td>USB</td>\n      <td>0</td>\n    </tr>\n    <tr>\n      <td>6</td>\n      <td>6</td>\n      <td>Logitech K120</td>\n      <td>10.14</td>\n      <td>47</td>\n      <td>4.4</td>\n      <td>46</td>\n      <td>Keyboard Only</td>\n      <td>USB</td>\n      <td>0</td>\n    </tr>\n    <tr>\n      <td>9</td>\n      <td>9</td>\n      <td>Philips SPT6354</td>\n      <td>10.41</td>\n      <td>37</td>\n      <td>3.8</td>\n      <td>6</td>\n      <td>Keyboard Only</td>\n      <td>USB</td>\n      <td>0</td>\n    </tr>\n    <tr>\n      <td>...</td>\n      <td>...</td>\n      <td>...</td>\n      <td>...</td>\n      <td>...</td>\n      <td>...</td>\n      <td>...</td>\n      <td>...</td>\n      <td>...</td>\n      <td>...</td>\n    </tr>\n    <tr>\n      <td>566</td>\n      <td>566</td>\n      <td>Gigabyte K6800</td>\n      <td>14.99</td>\n      <td>0</td>\n      <td>0.0</td>\n      <td>0</td>\n      <td>Keyboard Only</td>\n      <td>USB</td>\n      <td>0</td>\n    </tr>\n    <tr>\n      <td>567</td>\n      <td>567</td>\n      <td>Gembird KB-109F</td>\n      <td>9.90</td>\n      <td>2</td>\n      <td>1.0</td>\n      <td>1</td>\n      <td>Keyboard Only</td>\n      <td>USB</td>\n      <td>0</td>\n    </tr>\n    <tr>\n      <td>569</td>\n      <td>569</td>\n      <td>Gembird KB-BT-001 Black</td>\n      <td>25.00</td>\n      <td>0</td>\n      <td>2.7</td>\n      <td>3</td>\n      <td>Keyboard Only</td>\n      <td>Bluetooth</td>\n      <td>0</td>\n    </tr>\n    <tr>\n      <td>570</td>\n      <td>570</td>\n      <td>Roline Numeric Keyboard USB Silver</td>\n      <td>10.78</td>\n      <td>2</td>\n      <td>0.0</td>\n      <td>0</td>\n      <td>Keyboard Only</td>\n      <td>USB</td>\n      <td>0</td>\n    </tr>\n    <tr>\n      <td>571</td>\n      <td>571</td>\n      <td>Modecom MC-5003 Hot Wheels</td>\n      <td>3.90</td>\n      <td>0</td>\n      <td>0.0</td>\n      <td>0</td>\n      <td>Keyboard Only</td>\n      <td>USB</td>\n      <td>0</td>\n    </tr>\n  </tbody>\n</table>\n<p>306 rows × 9 columns</p>\n</div>"
     },
     "metadata": {},
     "execution_count": 39
    }
   ],
   "source": [
    "clean_snan\n",
    "switch=clean_snan[\"Switches\"] == 0\n",
    "\n",
    "cleann=clean_snan.loc[switch,:]\n"
   ]
  },
  {
   "cell_type": "code",
   "execution_count": null,
   "metadata": {},
   "outputs": [],
   "source": []
  }
 ]
}